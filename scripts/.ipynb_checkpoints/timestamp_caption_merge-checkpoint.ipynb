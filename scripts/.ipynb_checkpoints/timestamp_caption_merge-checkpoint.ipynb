{
 "cells": [
  {
   "cell_type": "code",
   "execution_count": 25,
   "metadata": {},
   "outputs": [],
   "source": [
    "import pandas as pd\n",
    "import webvtt as wvt\n",
    "from datetime import datetime"
   ]
  },
  {
   "cell_type": "code",
   "execution_count": 52,
   "metadata": {},
   "outputs": [
    {
     "data": {
      "text/plain": [
       "73.51"
      ]
     },
     "execution_count": 52,
     "metadata": {},
     "output_type": "execute_result"
    }
   ],
   "source": [
    "def get_sec(time_str):\n",
    "    \"\"\"Get Seconds from time.\"\"\"\n",
    "    t, f = time_str.split('.')\n",
    "    h, m, s = t.split(':')\n",
    "    return int(h) * 3600 + int(m) * 60 + int(s) + int(f) * 0.001\n",
    "\n",
    "get_sec(\"00:01:13.510\")"
   ]
  },
  {
   "cell_type": "code",
   "execution_count": 43,
   "metadata": {},
   "outputs": [
    {
     "name": "stdout",
     "output_type": "stream",
     "text": [
      "('1', '2', '22')\n",
      "('2', '22', '48')\n",
      "('3', '50', '80')\n",
      "('4', '80', '98')\n"
     ]
    }
   ],
   "source": [
    "# Use a test list input\n",
    "slide_timestamp = [(\"1\", \"2\", \"22\"), (\"2\", \"22\", \"48\"), (\"3\", \"50\", \"80\"), (\"4\", \"80\", \"98\")]\n",
    "for i in slide_timestamp:\n",
    "    print(i)"
   ]
  },
  {
   "cell_type": "code",
   "execution_count": 64,
   "metadata": {},
   "outputs": [],
   "source": [
    "def generate_mapping(slide_timestamp, captions):\n",
    "    '''\n",
    "    Input: list of (slide#, start, end), captions vtt file\n",
    "    Output: list of (slide#, caption)\n",
    "    '''\n",
    "    mapping = {}\n",
    "    for caption in wvt.read(captions):\n",
    "        for st_map in slide_timestamp:\n",
    "            if get_sec(caption.start) >= int(st_map[1]) and get_sec(caption.end) <= int(st_map[2]):\n",
    "                # caption belongs to this slide\n",
    "                if st_map[0] in mapping.keys():\n",
    "                    temp = mapping[st_map[0]]\n",
    "                    mapping[st_map[0]] = temp + ' ' + caption.text\n",
    "                    break\n",
    "                else:\n",
    "                    mapping[st_map[0]] = caption.text\n",
    "                    break\n",
    "    print(mapping)\n",
    "    return mapping\n",
    "                "
   ]
  },
  {
   "cell_type": "code",
   "execution_count": 74,
   "metadata": {},
   "outputs": [
    {
     "name": "stdout",
     "output_type": "stream",
     "text": [
      "{'1': \"Start OK, start. OK. All right, welcome everyone.\\nThis is power reader. It's our hackathon project and we'd like\\nto walk you through it.\", '2': \"What is this project? The whole\\npremise of this solution is answering this question. Why\\nwould you want to watch a 30 minute video when you can just\\nread through it quicker? Power reader is an\\ninnovative AI solution that correlate's your\\ntranscriptions with your PowerPoint slides so you\\nhave a single document that captures what was spoken in\\na remote meeting.\", '3': 'There are many benefits to why\\npower reader can be useful for you or your teammates. First of all, it is easy to use.\\nYou simply upload your video and you receive a document that you\\ncan use to read through. It embraces 1 Microsoft. It uses the goodness from\\nMicrosoft 365 and Azure. 2/3 of the Microsoft Cloud.', '4': \"If you're interested, you can\\ncheck out our hack box will provide the link to you soon. Thank you. OK.\"}\n"
     ]
    }
   ],
   "source": [
    "output = generate_mapping(slide_timestamp, 'test_captions.vtt')"
   ]
  },
  {
   "cell_type": "code",
   "execution_count": 78,
   "metadata": {},
   "outputs": [],
   "source": [
    "# Write to text file\n",
    "    \n",
    "f = open('output.txt', 'wt')\n",
    "for key, value in output.items():\n",
    "    f.write('{}:{}\\n'.format(key, ' '.join(value)))\n",
    "f.close()\n",
    "# data = str(output)\n",
    "# filehandler.write(data)\n",
    "# filehandler.close()"
   ]
  },
  {
   "cell_type": "code",
   "execution_count": 3,
   "metadata": {},
   "outputs": [
    {
     "name": "stdout",
     "output_type": "stream",
     "text": [
      "00:00:02.300\n",
      "00:00:04.559\n",
      "Start OK, start.\n",
      "00:00:10.560\n",
      "00:00:11.210\n",
      "OK.\n",
      "00:00:13.510\n",
      "00:00:17.360\n",
      "All right, welcome everyone.\n",
      "This is power reader. It's our\n",
      "00:00:17.360\n",
      "00:00:21.210\n",
      "hackathon project and we'd like\n",
      "to walk you through it.\n",
      "00:00:22.920\n",
      "00:00:27.309\n",
      "What is this project? The whole\n",
      "premise of this solution is\n",
      "00:00:27.309\n",
      "00:00:31.698\n",
      "answering this question. Why\n",
      "would you want to watch a 30\n",
      "00:00:31.698\n",
      "00:00:35.688\n",
      "minute video when you can just\n",
      "read through it quicker?\n",
      "00:00:36.450\n",
      "00:00:39.506\n",
      "Power reader is an\n",
      "innovative AI solution that\n",
      "00:00:39.506\n",
      "00:00:41.416\n",
      "correlate's your\n",
      "transcriptions with your\n",
      "00:00:41.416\n",
      "00:00:44.854\n",
      "PowerPoint slides so you\n",
      "have a single document that\n",
      "00:00:44.854\n",
      "00:00:47.910\n",
      "captures what was spoken in\n",
      "a remote meeting.\n",
      "00:00:50.400\n",
      "00:00:54.780\n",
      "There are many benefits to why\n",
      "power reader can be useful for\n",
      "00:00:54.780\n",
      "00:00:56.240\n",
      "you or your teammates.\n",
      "00:00:57.070\n",
      "00:01:02.600\n",
      "First of all, it is easy to use.\n",
      "You simply upload your video and\n",
      "00:01:02.600\n",
      "00:01:07.340\n",
      "you receive a document that you\n",
      "can use to read through. It\n",
      "00:01:07.340\n",
      "00:01:08.525\n",
      "embraces 1 Microsoft.\n",
      "00:01:10.480\n",
      "00:01:15.655\n",
      "It uses the goodness from\n",
      "Microsoft 365 and Azure.\n",
      "00:01:16.510\n",
      "00:01:18.920\n",
      "2/3 of the Microsoft Cloud.\n",
      "00:01:21.330\n",
      "00:01:24.905\n",
      "If you're interested, you can\n",
      "check out our hack box will\n",
      "00:01:24.905\n",
      "00:01:26.855\n",
      "provide the link to you soon.\n",
      "00:01:28.270\n",
      "00:01:28.820\n",
      "Thank you.\n",
      "00:01:36.400\n",
      "00:01:36.610\n",
      "OK.\n"
     ]
    }
   ],
   "source": [
    "# Exploratory\n",
    "for caption in wvt.read('test_captions.vtt'):\n",
    "    print(caption.start)\n",
    "    print(caption.end)\n",
    "    print(caption.text)\n",
    "\n",
    "# Output:\n",
    "# list of slide number -> text dictionary"
   ]
  },
  {
   "cell_type": "code",
   "execution_count": null,
   "metadata": {},
   "outputs": [],
   "source": []
  }
 ],
 "metadata": {
  "kernelspec": {
   "display_name": "Python 3",
   "language": "python",
   "name": "python3"
  },
  "language_info": {
   "codemirror_mode": {
    "name": "ipython",
    "version": 3
   },
   "file_extension": ".py",
   "mimetype": "text/x-python",
   "name": "python",
   "nbconvert_exporter": "python",
   "pygments_lexer": "ipython3",
   "version": "3.7.0"
  }
 },
 "nbformat": 4,
 "nbformat_minor": 2
}
